{
 "cells": [
  {
   "cell_type": "code",
   "execution_count": 2,
   "id": "4e4d967f",
   "metadata": {},
   "outputs": [
    {
     "name": "stdout",
     "output_type": "stream",
     "text": [
      "hello world!\n"
     ]
    }
   ],
   "source": [
    "print(\"hello world!\")"
   ]
  },
  {
   "cell_type": "code",
   "execution_count": 6,
   "id": "8a5b4ab6",
   "metadata": {},
   "outputs": [
    {
     "data": {
      "text/plain": [
       "True"
      ]
     },
     "execution_count": 6,
     "metadata": {},
     "output_type": "execute_result"
    }
   ],
   "source": [
    "True"
   ]
  },
  {
   "cell_type": "markdown",
   "id": "976f62ec",
   "metadata": {},
   "source": [
    "# TIPOS DE DADOS "
   ]
  },
  {
   "cell_type": "markdown",
   "id": "8273d891",
   "metadata": {},
   "source": [
    "### STRING "
   ]
  },
  {
   "cell_type": "code",
   "execution_count": 9,
   "id": "6460c2fd",
   "metadata": {},
   "outputs": [
    {
     "data": {
      "text/plain": [
       "'esse é um texto do tipo string de aspas triplas duplas'"
      ]
     },
     "execution_count": 9,
     "metadata": {},
     "output_type": "execute_result"
    }
   ],
   "source": [
    "'esse é um texto do tipo string de aspas simples'\n",
    "\"esse é um texto do tipo string de aspas duplas\"\n",
    "'''esse é um texto do tipo string de aspas triplas simples'''\n",
    "\"\"\"esse é um texto do tipo string de aspas triplas duplas\"\"\""
   ]
  },
  {
   "cell_type": "markdown",
   "id": "6d329357",
   "metadata": {},
   "source": [
    "### CASOS ESPECIAIS DAS STRINGS "
   ]
  },
  {
   "cell_type": "markdown",
   "id": "c898fb00",
   "metadata": {},
   "source": [
    "ESCAPE CHARACTER"
   ]
  },
  {
   "cell_type": "code",
   "execution_count": 15,
   "id": "3aad270b",
   "metadata": {},
   "outputs": [
    {
     "data": {
      "text/plain": [
       "'\"don\\'t look at me'"
      ]
     },
     "execution_count": 15,
     "metadata": {},
     "output_type": "execute_result"
    }
   ],
   "source": [
    "\"\\\"don't look at me\" # invisible(invisivel) characters"
   ]
  },
  {
   "cell_type": "code",
   "execution_count": 12,
   "id": "cece7a0c",
   "metadata": {},
   "outputs": [
    {
     "name": "stdout",
     "output_type": "stream",
     "text": [
      "\"don't look at me\n"
     ]
    }
   ],
   "source": [
    "print(\"\\\"don't look at me\")\n",
    "    "
   ]
  },
  {
   "cell_type": "code",
   "execution_count": 16,
   "id": "826c5f2b",
   "metadata": {},
   "outputs": [
    {
     "name": "stdout",
     "output_type": "stream",
     "text": [
      "Olá mundo.\n",
      "Meu nome é Victoria\n"
     ]
    }
   ],
   "source": [
    "print(\"Olá mundo.\\nMeu nome é Victoria\")"
   ]
  },
  {
   "cell_type": "code",
   "execution_count": 18,
   "id": "c7037198",
   "metadata": {},
   "outputs": [
    {
     "name": "stdout",
     "output_type": "stream",
     "text": [
      "Olá mundo.Meu nome é Victoria\n",
      "Olá mundo.\tMeu nome é Victoria\n"
     ]
    }
   ],
   "source": [
    "print(\"Olá mundo.Meu nome é Victoria\")\n",
    "print(\"Olá mundo.\\tMeu nome é Victoria\")"
   ]
  },
  {
   "cell_type": "markdown",
   "id": "b3b2c697",
   "metadata": {},
   "source": [
    "## DESAFIO 1: em duas linhas imprima boas vindas ao usuário"
   ]
  },
  {
   "cell_type": "code",
   "execution_count": 9,
   "id": "e4c9d417",
   "metadata": {},
   "outputs": [
    {
     "name": "stdout",
     "output_type": "stream",
     "text": [
      "Digite seu nome e sua idade: vick 89\n",
      "Olá vick. \n",
      "Sua idade é 89.\n",
      "Digite seu nome e sua idade: vick 89\n",
      "Olá vick. \n",
      "Sua idade é 89.\n",
      "Digite seu nome e sua idade: vick 89\n",
      "Olá {nome}.\n",
      "Sua idade é {idade}.\n"
     ]
    }
   ],
   "source": [
    "#Solução 1\n",
    "dados = input(\"Digite seu nome e sua idade: \").split()\n",
    "print(f\"Olá {dados[0]}. \\nSua idade é {dados[1]}.\")\n",
    "#Solução 2\n",
    "dados = input(\"Digite seu nome e sua idade: \").split()\n",
    "print(\"Olá {}. \\nSua idade é {}.\".format(dados[0], dados[1]))\n",
    "#Solução 3\n",
    "nome, idade = input(\"Digite seu nome e sua idade: \").split()\n",
    "print(\"Olá {nome}.\\nSua idade é {idade}.\")"
   ]
  },
  {
   "cell_type": "markdown",
   "id": "77fad947",
   "metadata": {},
   "source": [
    "### SPLIT "
   ]
  },
  {
   "cell_type": "code",
   "execution_count": 2,
   "id": "8819bcc7",
   "metadata": {},
   "outputs": [
    {
     "data": {
      "text/plain": [
       "['nome', 'idade', 'cpf', 'email']"
      ]
     },
     "execution_count": 2,
     "metadata": {},
     "output_type": "execute_result"
    }
   ],
   "source": [
    "\"nome,idade,cpf,email\".split(\",\")"
   ]
  },
  {
   "cell_type": "markdown",
   "id": "8e251321",
   "metadata": {},
   "source": [
    "### MANIPULANDO STRINGS/ TEXTO"
   ]
  },
  {
   "cell_type": "code",
   "execution_count": 5,
   "id": "f74b75d4",
   "metadata": {},
   "outputs": [
    {
     "name": "stdout",
     "output_type": "stream",
     "text": [
      "\n",
      "COD,NOME,SIGLA\n",
      "35,São Paulo, SP\n",
      "41,Paraná, PR\n",
      "42,Santa Catarina, SC\n",
      "43,Rio Grande do Sul, RS\n",
      "50,Mato Grosso do Sul, MS\n",
      "11,Rondônia, RO\n",
      "12,Acre, AC\n",
      "13,Amazonas, AM\n",
      "14,Roraima, RR\n",
      "15,Pará, PA\n",
      "16,Amapá, AP\n",
      "17,Tocantins, TO\n",
      "21,Maranhão, MA\n",
      "24,Rio Grande do Norte, RN\n",
      "25,Paraíba, PB\n",
      "26,Pernambuco, PE\n",
      "27,Alagoas, AL\n",
      "28,Sergipe, SE\n",
      "29,Bahia, BA\n",
      "31,Minas Gerais, MG\n",
      "33,Rio de Janeiro, RJ\n",
      "51,Mato Grosso, MT\n",
      "52,Goiás, GO\n",
      "53,Distrito Federal, DF\n",
      "22,Piauí, PI\n",
      "23,Ceará, CE\n",
      "32,Espírito Santo, ES\n",
      "\n"
     ]
    }
   ],
   "source": [
    "estados = \"\"\"\n",
    "COD,NOME,SIGLA\n",
    "35,São Paulo, SP\n",
    "41,Paraná, PR\n",
    "42,Santa Catarina, SC\n",
    "43,Rio Grande do Sul, RS\n",
    "50,Mato Grosso do Sul, MS\n",
    "11,Rondônia, RO\n",
    "12,Acre, AC\n",
    "13,Amazonas, AM\n",
    "14,Roraima, RR\n",
    "15,Pará, PA\n",
    "16,Amapá, AP\n",
    "17,Tocantins, TO\n",
    "21,Maranhão, MA\n",
    "24,Rio Grande do Norte, RN\n",
    "25,Paraíba, PB\n",
    "26,Pernambuco, PE\n",
    "27,Alagoas, AL\n",
    "28,Sergipe, SE\n",
    "29,Bahia, BA\n",
    "31,Minas Gerais, MG\n",
    "33,Rio de Janeiro, RJ\n",
    "51,Mato Grosso, MT\n",
    "52,Goiás, GO\n",
    "53,Distrito Federal, DF\n",
    "22,Piauí, PI\n",
    "23,Ceará, CE\n",
    "32,Espírito Santo, ES\n",
    "\"\"\"\n",
    "print(estados)"
   ]
  },
  {
   "cell_type": "code",
   "execution_count": 16,
   "id": "f3acc652",
   "metadata": {},
   "outputs": [
    {
     "data": {
      "text/plain": [
       "['',\n",
       " 'COD,NOME,SIGLA',\n",
       " '35,São Paulo, SP',\n",
       " '41,Paraná, PR',\n",
       " '42,Santa Catarina, SC',\n",
       " '43,Rio Grande do Sul, RS',\n",
       " '50,Mato Grosso do Sul, MS',\n",
       " '11,Rondônia, RO',\n",
       " '12,Acre, AC',\n",
       " '13,Amazonas, AM',\n",
       " '14,Roraima, RR',\n",
       " '15,Pará, PA',\n",
       " '16,Amapá, AP',\n",
       " '17,Tocantins, TO',\n",
       " '21,Maranhão, MA',\n",
       " '24,Rio Grande do Norte, RN',\n",
       " '25,Paraíba, PB',\n",
       " '26,Pernambuco, PE',\n",
       " '27,Alagoas, AL',\n",
       " '28,Sergipe, SE',\n",
       " '29,Bahia, BA',\n",
       " '31,Minas Gerais, MG',\n",
       " '33,Rio de Janeiro, RJ',\n",
       " '51,Mato Grosso, MT',\n",
       " '52,Goiás, GO',\n",
       " '53,Distrito Federal, DF',\n",
       " '22,Piauí, PI',\n",
       " '23,Ceará, CE',\n",
       " '32,Espírito Santo, ES',\n",
       " '']"
      ]
     },
     "execution_count": 16,
     "metadata": {},
     "output_type": "execute_result"
    }
   ],
   "source": [
    "estados.split(\"\\n\")"
   ]
  },
  {
   "cell_type": "code",
   "execution_count": 17,
   "id": "246072f8",
   "metadata": {},
   "outputs": [],
   "source": [
    "  alunos = [\n",
    "    \"pablo\",\n",
    "    \"nicolas a.\",\n",
    "    \"raquel\",\n",
    "    \"patrick\",\n",
    "    \"lucas\",\n",
    "    \"rafael\",\n",
    "    \"rodolpho\",\n",
    "    \"natali\",\n",
    "    \"victor\",\n",
    "    \"thiago\",\n",
    "    \"roberval\",\n",
    "    \"vinicius\",\n",
    "    \"marcos\",\n",
    "    \"rodrigo\",\n",
    "    \"renan\",\n",
    "    \"nicolas f.\",\n",
    "    \"thalith\",\n",
    "    \"watuse\",\n",
    "    \"victoria\"\n",
    "]"
   ]
  },
  {
   "cell_type": "markdown",
   "id": "b6e84b4a",
   "metadata": {},
   "source": [
    "### REQUISITOS PARA SER UM DEV DE RESPEITO "
   ]
  },
  {
   "cell_type": "markdown",
   "id": "4a982132",
   "metadata": {},
   "source": [
    "* Python: lógica de programação, portifólio, projetos e softwares criados(que resolvam problemas úteis)\n",
    "* Banco de dados: CSV, SQL: Sqlite3, Postgres, MySQL\n",
    "* Bibliotecas: Web (Flask, FastAPI, \"DJANGO eu não recomendo), DS (pandas, numpy, tensor flow, spark)\n",
    "* Processos/programação em nuvem: GCP, AWS, Heroku. (https://www.youtube.com/watch?v=TLRW_xTnQwY&t=1091s)\n",
    "\n"
   ]
  },
  {
   "cell_type": "markdown",
   "id": "c15019eb",
   "metadata": {},
   "source": [
    "### OUTROS TIPOS DE STRINGS/TEXTO"
   ]
  },
  {
   "cell_type": "code",
   "execution_count": null,
   "id": "32085575",
   "metadata": {},
   "outputs": [],
   "source": [
    "r\"raw string\" # texto seco, cru, literal\n",
    "b\"encoded tex\" # texto binario, encodado \n",
    "\"victória\".encode(\"ascii\")"
   ]
  },
  {
   "cell_type": "markdown",
   "id": "ace0d5cd",
   "metadata": {},
   "source": [
    "### LISTAS - Mutáveis"
   ]
  },
  {
   "cell_type": "code",
   "execution_count": 33,
   "id": "704cba6e",
   "metadata": {},
   "outputs": [
    {
     "data": {
      "text/plain": [
       "'morango'"
      ]
     },
     "execution_count": 33,
     "metadata": {},
     "output_type": "execute_result"
    }
   ],
   "source": [
    "frutas = [\"tomate\", \"maçã\", \"morango\", \"pitaya\"]\n",
    "# frutas[2]\n",
    "frutas[len(frutas) - 2]"
   ]
  },
  {
   "cell_type": "code",
   "execution_count": 7,
   "id": "2508269d",
   "metadata": {},
   "outputs": [
    {
     "name": "stdout",
     "output_type": "stream",
     "text": [
      "Digite seu nome e sobrenome: Victória Castro\n",
      "As iniciais do seu nome são VC.\n"
     ]
    }
   ],
   "source": [
    "nome, sobrenome = input(\"Digite seu nome e sobrenome: \").split()\n",
    "print(f\"As iniciais do seu nome são {nome[0] + sobrenome[0]}.\")\n"
   ]
  },
  {
   "cell_type": "markdown",
   "id": "fb6a2677",
   "metadata": {},
   "source": [
    "# FUNÇÕES"
   ]
  },
  {
   "cell_type": "markdown",
   "id": "3f5cd4e8",
   "metadata": {},
   "source": [
    "### CRIANDO FUNÇÕES PRÓPRIAS"
   ]
  },
  {
   "cell_type": "markdown",
   "id": "7276d634",
   "metadata": {},
   "source": [
    "* função dummy"
   ]
  },
  {
   "cell_type": "code",
   "execution_count": 9,
   "id": "ff7fe4cd",
   "metadata": {},
   "outputs": [],
   "source": [
    "# criação de função \n",
    "\n",
    "def minha_funcao():\n",
    "    ... # pass\n",
    "    \n",
    "# chamada de função \n",
    "minha_funcao()"
   ]
  },
  {
   "cell_type": "code",
   "execution_count": 17,
   "id": "248445de",
   "metadata": {},
   "outputs": [
    {
     "name": "stdout",
     "output_type": "stream",
     "text": [
      "5coisas\n",
      "5coisas\n"
     ]
    }
   ],
   "source": [
    "# parâmetro padrão\n",
    "def func2(parametro1=\"\", parametro2=\"\"):\n",
    "    return parametro1 + parametro2\n",
    "    \n",
    "valor = func2(\"5\", \"coisas\" )\n",
    "print(valor)\n",
    "\n",
    "# parâmetro obrigatório\n",
    "def func3(parametro1, parametro2):\n",
    "    return parametro1 + parametro2\n",
    "    \n",
    "valor = func3(\"5\", \"coisas\" )\n",
    "print(valor)"
   ]
  }
 ],
 "metadata": {
  "kernelspec": {
   "display_name": "Python 3 (ipykernel)",
   "language": "python",
   "name": "python3"
  },
  "language_info": {
   "codemirror_mode": {
    "name": "ipython",
    "version": 3
   },
   "file_extension": ".py",
   "mimetype": "text/x-python",
   "name": "python",
   "nbconvert_exporter": "python",
   "pygments_lexer": "ipython3",
   "version": "3.9.7"
  }
 },
 "nbformat": 4,
 "nbformat_minor": 5
}
