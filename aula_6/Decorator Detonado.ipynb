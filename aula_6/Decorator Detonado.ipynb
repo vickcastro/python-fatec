{
 "cells": [
  {
   "cell_type": "markdown",
   "id": "9bf7165d",
   "metadata": {},
   "source": [
    "# DECORATORS\n",
    "\n",
    "### Decoradores de função, modificadores de comportamento "
   ]
  },
  {
   "cell_type": "code",
   "execution_count": 3,
   "id": "9d7b7cd0",
   "metadata": {},
   "outputs": [
    {
     "name": "stdout",
     "output_type": "stream",
     "text": [
      "dados\n"
     ]
    }
   ],
   "source": [
    "# Em termos de um Lambda\n",
    "\n",
    "uma_funcao = lambda : print \n",
    "uma_funcao()(\"dados\") # print(\"dados\")"
   ]
  },
  {
   "cell_type": "code",
   "execution_count": 12,
   "id": "34c4978b",
   "metadata": {},
   "outputs": [
    {
     "data": {
      "text/plain": [
       "<function __main__.funcao_externa.<locals>.funcao_interna()>"
      ]
     },
     "execution_count": 12,
     "metadata": {},
     "output_type": "execute_result"
    }
   ],
   "source": [
    "# Em termos de uma função simples \n",
    "\n",
    "def funcao_externa(func):\n",
    "    def funcao_interna():\n",
    "        # coisas antes\n",
    "        func()\n",
    "        # coisas depois\n",
    "    return funcao_interna\n",
    "    \n",
    "funcao_externa(print)"
   ]
  },
  {
   "cell_type": "code",
   "execution_count": 15,
   "id": "9d0f2bc6",
   "metadata": {},
   "outputs": [],
   "source": [
    "# Em termos de decorator com a nomeclatura correta\n",
    "import functools\n",
    "from functools import cache \n",
    "\n",
    "@functools.cache\n",
    "@cache\n",
    "def fibonacci():\n",
    "    pass\n",
    "\n",
    "fibonacci()"
   ]
  },
  {
   "cell_type": "markdown",
   "id": "f667c363",
   "metadata": {},
   "source": [
    "## Criando nosso decorator"
   ]
  },
  {
   "cell_type": "markdown",
   "id": "d7b367c3",
   "metadata": {},
   "source": [
    "### Ciando uma função "
   ]
  },
  {
   "cell_type": "code",
   "execution_count": 37,
   "id": "c823865d",
   "metadata": {},
   "outputs": [
    {
     "ename": "TypeError",
     "evalue": "unsupported operand type(s) for +: 'int' and 'str'",
     "output_type": "error",
     "traceback": [
      "\u001b[1;31m---------------------------------------------------------------------------\u001b[0m",
      "\u001b[1;31mTypeError\u001b[0m                                 Traceback (most recent call last)",
      "\u001b[1;32mC:\\Users\\FATECS~1\\AppData\\Local\\Temp/ipykernel_3448/1920329761.py\u001b[0m in \u001b[0;36m<module>\u001b[1;34m\u001b[0m\n\u001b[0;32m      2\u001b[0m     \u001b[1;32mreturn\u001b[0m \u001b[0mval_1\u001b[0m \u001b[1;33m+\u001b[0m \u001b[0mval_2\u001b[0m\u001b[1;33m\u001b[0m\u001b[1;33m\u001b[0m\u001b[0m\n\u001b[0;32m      3\u001b[0m \u001b[1;33m\u001b[0m\u001b[0m\n\u001b[1;32m----> 4\u001b[1;33m \u001b[0mpiscina\u001b[0m\u001b[1;33m(\u001b[0m\u001b[1;36m1\u001b[0m\u001b[1;33m,\u001b[0m \u001b[1;34m\"2\"\u001b[0m\u001b[1;33m)\u001b[0m\u001b[1;33m\u001b[0m\u001b[1;33m\u001b[0m\u001b[0m\n\u001b[0m",
      "\u001b[1;32mC:\\Users\\FATECS~1\\AppData\\Local\\Temp/ipykernel_3448/1920329761.py\u001b[0m in \u001b[0;36mpiscina\u001b[1;34m(val_1, val_2)\u001b[0m\n\u001b[0;32m      1\u001b[0m \u001b[1;32mdef\u001b[0m \u001b[0mpiscina\u001b[0m\u001b[1;33m(\u001b[0m\u001b[0mval_1\u001b[0m\u001b[1;33m,\u001b[0m \u001b[0mval_2\u001b[0m\u001b[1;33m)\u001b[0m\u001b[1;33m:\u001b[0m\u001b[1;33m\u001b[0m\u001b[1;33m\u001b[0m\u001b[0m\n\u001b[1;32m----> 2\u001b[1;33m     \u001b[1;32mreturn\u001b[0m \u001b[0mval_1\u001b[0m \u001b[1;33m+\u001b[0m \u001b[0mval_2\u001b[0m\u001b[1;33m\u001b[0m\u001b[1;33m\u001b[0m\u001b[0m\n\u001b[0m\u001b[0;32m      3\u001b[0m \u001b[1;33m\u001b[0m\u001b[0m\n\u001b[0;32m      4\u001b[0m \u001b[0mpiscina\u001b[0m\u001b[1;33m(\u001b[0m\u001b[1;36m1\u001b[0m\u001b[1;33m,\u001b[0m \u001b[1;34m\"2\"\u001b[0m\u001b[1;33m)\u001b[0m\u001b[1;33m\u001b[0m\u001b[1;33m\u001b[0m\u001b[0m\n",
      "\u001b[1;31mTypeError\u001b[0m: unsupported operand type(s) for +: 'int' and 'str'"
     ]
    }
   ],
   "source": [
    "def piscina(val_1, val_2):\n",
    "    return val_1 + val_2\n",
    "\n",
    "piscina(1, \"2\") "
   ]
  },
  {
   "cell_type": "code",
   "execution_count": 39,
   "id": "e54f3fb1",
   "metadata": {},
   "outputs": [
    {
     "data": {
      "text/plain": [
       "\"Operações não suportada: unsupported operand type(s) for +: 'int' and 'str'\""
      ]
     },
     "execution_count": 39,
     "metadata": {},
     "output_type": "execute_result"
    }
   ],
   "source": [
    "# piscina - função que permite usuários utilizarem a piscina\n",
    "def piscina(val_1, val_2):\n",
    "    try:\n",
    "        return val_1 + val_2\n",
    "    except Exception as err:\n",
    "        # usuário entrou na piscina \n",
    "        return f\"Operações não suportada: {err}\"\n",
    "\n",
    "piscina(1, \"2\") "
   ]
  },
  {
   "cell_type": "code",
   "execution_count": 48,
   "id": "4a3af0a1",
   "metadata": {},
   "outputs": [
    {
     "name": "stdout",
     "output_type": "stream",
     "text": [
      "Realizando exame\n"
     ]
    },
    {
     "ename": "TypeError",
     "evalue": "unsupported operand type(s) for +: 'int' and 'str'",
     "output_type": "error",
     "traceback": [
      "\u001b[1;31m---------------------------------------------------------------------------\u001b[0m",
      "\u001b[1;31mTypeError\u001b[0m                                 Traceback (most recent call last)",
      "\u001b[1;32mC:\\Users\\FATECS~1\\AppData\\Local\\Temp/ipykernel_3448/2440150132.py\u001b[0m in \u001b[0;36m<module>\u001b[1;34m\u001b[0m\n\u001b[0;32m     12\u001b[0m     \u001b[1;36m1\u001b[0m \u001b[1;33m+\u001b[0m \u001b[1;34m\"1\"\u001b[0m\u001b[1;33m\u001b[0m\u001b[1;33m\u001b[0m\u001b[0m\n\u001b[0;32m     13\u001b[0m \u001b[1;33m\u001b[0m\u001b[0m\n\u001b[1;32m---> 14\u001b[1;33m \u001b[0mpaciente\u001b[0m\u001b[1;33m(\u001b[0m\u001b[1;36m2\u001b[0m\u001b[1;33m)\u001b[0m\u001b[1;33m\u001b[0m\u001b[1;33m\u001b[0m\u001b[0m\n\u001b[0m",
      "\u001b[1;32mC:\\Users\\FATECS~1\\AppData\\Local\\Temp/ipykernel_3448/2440150132.py\u001b[0m in \u001b[0;36mmedico\u001b[1;34m(formulario)\u001b[0m\n\u001b[0;32m      3\u001b[0m     \u001b[1;32mdef\u001b[0m \u001b[0mmedico\u001b[0m\u001b[1;33m(\u001b[0m\u001b[0mformulario\u001b[0m\u001b[1;33m)\u001b[0m\u001b[1;33m:\u001b[0m \u001b[1;31m# papeis do exame\u001b[0m\u001b[1;33m\u001b[0m\u001b[1;33m\u001b[0m\u001b[0m\n\u001b[0;32m      4\u001b[0m         \u001b[0mprint\u001b[0m\u001b[1;33m(\u001b[0m\u001b[1;34m\"Realizando exame\"\u001b[0m\u001b[1;33m)\u001b[0m\u001b[1;33m\u001b[0m\u001b[1;33m\u001b[0m\u001b[0m\n\u001b[1;32m----> 5\u001b[1;33m         \u001b[0mpaciente\u001b[0m\u001b[1;33m(\u001b[0m\u001b[0mformulario\u001b[0m\u001b[1;33m)\u001b[0m\u001b[1;33m\u001b[0m\u001b[1;33m\u001b[0m\u001b[0m\n\u001b[0m\u001b[0;32m      6\u001b[0m         \u001b[0mprint\u001b[0m\u001b[1;33m(\u001b[0m\u001b[1;34m\"Exame realizado\"\u001b[0m\u001b[1;33m)\u001b[0m\u001b[1;33m\u001b[0m\u001b[1;33m\u001b[0m\u001b[0m\n\u001b[0;32m      7\u001b[0m     \u001b[1;32mreturn\u001b[0m \u001b[0mmedico\u001b[0m\u001b[1;33m\u001b[0m\u001b[1;33m\u001b[0m\u001b[0m\n",
      "\u001b[1;32mC:\\Users\\FATECS~1\\AppData\\Local\\Temp/ipykernel_3448/2440150132.py\u001b[0m in \u001b[0;36mpaciente\u001b[1;34m(formulario_preenchido)\u001b[0m\n\u001b[0;32m     10\u001b[0m \u001b[1;33m@\u001b[0m\u001b[0mexame\u001b[0m\u001b[1;33m\u001b[0m\u001b[1;33m\u001b[0m\u001b[0m\n\u001b[0;32m     11\u001b[0m \u001b[1;32mdef\u001b[0m \u001b[0mpaciente\u001b[0m\u001b[1;33m(\u001b[0m\u001b[0mformulario_preenchido\u001b[0m\u001b[1;33m)\u001b[0m\u001b[1;33m:\u001b[0m\u001b[1;33m\u001b[0m\u001b[1;33m\u001b[0m\u001b[0m\n\u001b[1;32m---> 12\u001b[1;33m     \u001b[1;36m1\u001b[0m \u001b[1;33m+\u001b[0m \u001b[1;34m\"1\"\u001b[0m\u001b[1;33m\u001b[0m\u001b[1;33m\u001b[0m\u001b[0m\n\u001b[0m\u001b[0;32m     13\u001b[0m \u001b[1;33m\u001b[0m\u001b[0m\n\u001b[0;32m     14\u001b[0m \u001b[0mpaciente\u001b[0m\u001b[1;33m(\u001b[0m\u001b[1;36m2\u001b[0m\u001b[1;33m)\u001b[0m\u001b[1;33m\u001b[0m\u001b[1;33m\u001b[0m\u001b[0m\n",
      "\u001b[1;31mTypeError\u001b[0m: unsupported operand type(s) for +: 'int' and 'str'"
     ]
    }
   ],
   "source": [
    "# exame - função que verifica se o usuário está apto a nadar \n",
    "def exame(paciente):\n",
    "    def medico(formulario): # papeis do exame \n",
    "        print(\"Realizando exame\")\n",
    "        paciente(formulario)\n",
    "        print(\"Exame realizado\")\n",
    "    return medico \n",
    "\n",
    "\n",
    "@exame\n",
    "def paciente(formulario_preenchido):\n",
    "    1 + \"1\"\n",
    "    \n",
    "paciente(2)"
   ]
  },
  {
   "cell_type": "markdown",
   "id": "15d96ee7",
   "metadata": {},
   "source": [
    "### Entendendo mais sobre funções\n"
   ]
  },
  {
   "cell_type": "markdown",
   "id": "2356ef68",
   "metadata": {},
   "source": [
    "* Função com parâmetro "
   ]
  },
  {
   "cell_type": "code",
   "execution_count": 49,
   "id": "ae566cc1",
   "metadata": {},
   "outputs": [],
   "source": [
    "def func(param): # valor rígido\n",
    "    pass"
   ]
  },
  {
   "cell_type": "markdown",
   "id": "1a626404",
   "metadata": {},
   "source": [
    "* Função sem parâmetro"
   ]
  },
  {
   "cell_type": "code",
   "execution_count": 51,
   "id": "d3e465bb",
   "metadata": {},
   "outputs": [],
   "source": [
    "def func(): # sem valor\n",
    "    pass"
   ]
  },
  {
   "cell_type": "markdown",
   "id": "5fe9aac4",
   "metadata": {},
   "source": [
    " * Função dinâmica"
   ]
  },
  {
   "cell_type": "code",
   "execution_count": 54,
   "id": "c612de4c",
   "metadata": {},
   "outputs": [
    {
     "name": "stdout",
     "output_type": "stream",
     "text": [
      "4\n",
      "1\n"
     ]
    }
   ],
   "source": [
    "def func(*args): # desempacotador\n",
    "    for valor in args:\n",
    "        print(valor)\n",
    "\n",
    "func(4, 1)    "
   ]
  },
  {
   "cell_type": "code",
   "execution_count": 59,
   "id": "870bbb11",
   "metadata": {},
   "outputs": [
    {
     "name": "stdout",
     "output_type": "stream",
     "text": [
      "Essa é a chave: nome\n",
      "Esse é o valor: cavalo\n"
     ]
    }
   ],
   "source": [
    "def func2(**kwargs):\n",
    "    for chave, valor in kwargs.items():\n",
    "        print(f\"Essa é a chave: {chave}\")\n",
    "        print(f\"Esse é o valor: {valor}\")\n",
    "\n",
    "        \n",
    "func2(nome=\"cavalo\")"
   ]
  },
  {
   "cell_type": "code",
   "execution_count": null,
   "id": "d3e3c952",
   "metadata": {},
   "outputs": [],
   "source": []
  },
  {
   "cell_type": "code",
   "execution_count": null,
   "id": "de1a66d7",
   "metadata": {},
   "outputs": [],
   "source": []
  }
 ],
 "metadata": {
  "kernelspec": {
   "display_name": "Python 3 (ipykernel)",
   "language": "python",
   "name": "python3"
  },
  "language_info": {
   "codemirror_mode": {
    "name": "ipython",
    "version": 3
   },
   "file_extension": ".py",
   "mimetype": "text/x-python",
   "name": "python",
   "nbconvert_exporter": "python",
   "pygments_lexer": "ipython3",
   "version": "3.9.7"
  }
 },
 "nbformat": 4,
 "nbformat_minor": 5
}
