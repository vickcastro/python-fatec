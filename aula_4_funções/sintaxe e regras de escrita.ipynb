{
 "cells": [
  {
   "cell_type": "markdown",
   "id": "380c0685",
   "metadata": {},
   "source": [
    "# Coisas importantes"
   ]
  },
  {
   "cell_type": "markdown",
   "id": "a131e152",
   "metadata": {},
   "source": [
    "o código fonte deve ser rigorosamente seguido.\n",
    "\n",
    "e.g \n",
    "\n",
    "* 1 Respeite as indentenções(espaços)\n",
    "NÃO FAÇA ISSO\n",
    "it main() {\n",
    "\n",
    "    teste1\n",
    "      teste2\n",
    "{\n",
    "\n",
    "* 2 Não adicione espaçoes nas funções e nos objetos\n",
    "correto:\n",
    "print(1)\n",
    "\n",
    "errado:\n",
    "print (1)\n",
    "\n",
    "print( 1 )\n",
    "\n",
    "* 3 Contudo, adicione espaço entre variáveis e valores, e entre valores e valores\n",
    "correto:\n",
    "variavel = 4\n",
    "\n",
    "3 + 3\n",
    "\n",
    "errado:\n",
    "variavel=4\n",
    "\n",
    "3+3"
   ]
  },
  {
   "cell_type": "markdown",
   "id": "2d295e0f",
   "metadata": {},
   "source": [
    "# Dry"
   ]
  },
  {
   "cell_type": "code",
   "execution_count": 3,
   "id": "0a4bd213",
   "metadata": {},
   "outputs": [
    {
     "name": "stdout",
     "output_type": "stream",
     "text": [
      "Olá estranho, seja bem-vindo\n",
      "Selecione as opções abaixo: \n",
      "[1] - Café\n",
      "[2] - Cappucino\n",
      "[3] - Expresso\n",
      ">>> 2\n"
     ]
    }
   ],
   "source": [
    "# Do not repeat yourself (Evite repetições)\n",
    "\n",
    "print(\"Olá estranho, seja bem-vindo\")\n",
    "print(\"Selecione as opções abaixo: \")\n",
    "print(\"[1] - Café\")\n",
    "print(\"[2] - Cappucino\")\n",
    "print(\"[3] - Expresso\")\n",
    "opcao = input(\">>> \")"
   ]
  },
  {
   "cell_type": "code",
   "execution_count": 6,
   "id": "6b8c4aea",
   "metadata": {},
   "outputs": [
    {
     "name": "stdout",
     "output_type": "stream",
     "text": [
      "2\n"
     ]
    }
   ],
   "source": [
    "print(opcao)"
   ]
  },
  {
   "cell_type": "markdown",
   "id": "4c30f601",
   "metadata": {},
   "source": [
    "# LAÇO DE REPETIÇÃO"
   ]
  },
  {
   "cell_type": "code",
   "execution_count": 9,
   "id": "06b75e96",
   "metadata": {},
   "outputs": [
    {
     "name": "stdout",
     "output_type": "stream",
     "text": [
      "=^^=\n",
      "=^^=\n",
      "=^^=\n",
      "=^^=\n",
      "=^^=\n",
      "=^^=\n",
      "=^^=\n",
      "=^^=\n",
      "=^^=\n",
      "=^^=\n"
     ]
    }
   ],
   "source": [
    "# Jeito cavalo\n",
    "print(\"=^^=\")\n",
    "print(\"=^^=\")\n",
    "print(\"=^^=\")\n",
    "print(\"=^^=\")\n",
    "print(\"=^^=\")\n",
    "print(\"=^^=\")\n",
    "print(\"=^^=\")\n",
    "print(\"=^^=\")\n",
    "print(\"=^^=\")\n",
    "print(\"=^^=\")"
   ]
  },
  {
   "cell_type": "markdown",
   "id": "26976c6c",
   "metadata": {},
   "source": [
    "# ESTRUTURA DE REPETIÇÃO FOR\n",
    "\n",
    "**for** *variavel* **in** *Iterador*\n",
    " "
   ]
  },
  {
   "cell_type": "markdown",
   "id": "c4ff8433",
   "metadata": {},
   "source": [
    "o **for** traduzido para o português fica:\n",
    "\n",
    "\"**Para cada elemento** (for) **dentro do** *iterável* salve\n",
    "temporariamente o valor contido no *iterável* na variável 'variável'\"\n",
    "\n",
    "\"Execute o código abaixo o mesmo tanto de vezes que o tamanho do iterável\""
   ]
  },
  {
   "cell_type": "code",
   "execution_count": 10,
   "id": "756c44f0",
   "metadata": {},
   "outputs": [],
   "source": [
    "# iteráveis\n",
    "\n",
    "listas = [1, \"texto\", []] # listas aceitam quaisquer objetos que o python suporta \n",
    "textos = \"O rato roeu a roupa do rei de roma\"\n",
    "tuplas = (1, \"texto\", []) # tuplas aceitam quaisquer objetos \n",
    "dicionario_de_uma_linha = {\"chave\": \"valor\", \"dog\": \"cachorro\"}\n",
    "dicionario_de_varias_linhas = {\n",
    "    \"chave\": \"valor\", \n",
    "    \"dog\": \"cachorro\"\n",
    "}\n",
    "alcance_escopo = range(10)"
   ]
  },
  {
   "cell_type": "markdown",
   "id": "0c54a080",
   "metadata": {},
   "source": [
    "# TRABALHANDO OS DADOS\n",
    "\n",
    "* lista\n",
    "* texto\n",
    "* tuplas\n",
    "* dicionários\n",
    "* range "
   ]
  },
  {
   "cell_type": "code",
   "execution_count": 14,
   "id": "5e0a95a0",
   "metadata": {},
   "outputs": [
    {
     "name": "stdout",
     "output_type": "stream",
     "text": [
      "=^^=\n",
      "=^^=\n",
      "=^^=\n",
      "=^^=\n",
      "=^^=\n",
      "=^^=\n",
      "=^^=\n",
      "=^^=\n",
      "=^^=\n",
      "=^^=\n"
     ]
    }
   ],
   "source": [
    "for VARIAVEL in range(10):\n",
    "    print(\"=^^=\")"
   ]
  },
  {
   "cell_type": "code",
   "execution_count": 19,
   "id": "bf6d390d",
   "metadata": {},
   "outputs": [
    {
     "name": "stdout",
     "output_type": "stream",
     "text": [
      "azeitona\n",
      "chocolate\n",
      "papel higienico\n",
      "pasta de dente\n",
      "salgadinho\n",
      "carne moida\n"
     ]
    }
   ],
   "source": [
    "# trabalhando com listas\n",
    "\n",
    "tamanho_minimo = 8\n",
    "compras = [\"arroz\", \"picanha\", \"azeitona\", \"chocolate\", \"feijão\", \"batata\", \"sushi\", \"papel higienico\", \"pasta de dente\", \"vinho\", \"salgadinho\", \"carne moida\", \"leite\"]\n",
    "for item in compras:\n",
    "    if len(item) < tamanho_minimo:\n",
    "        pass\n",
    "    else:\n",
    "        print(item)"
   ]
  },
  {
   "cell_type": "code",
   "execution_count": 40,
   "id": "89591bee",
   "metadata": {},
   "outputs": [
    {
     "name": "stdout",
     "output_type": "stream",
     "text": [
      "0 Par\n",
      "1 Impar\n",
      "2 Par\n",
      "3 Impar\n",
      "4 Par\n",
      "5 Impar\n",
      "6 Par\n",
      "7 Impar\n",
      "8 Par\n",
      "9 Impar\n",
      "10 Par\n",
      "11 Impar\n",
      "12 Par\n",
      "13 Impar\n",
      "14 Par\n",
      "15 Impar\n",
      "16 Par\n",
      "17 Impar\n",
      "18 Par\n",
      "19 Impar\n",
      "20 Par\n",
      "21 Impar\n",
      "22 Par\n",
      "23 Impar\n",
      "24 Par\n",
      "25 Impar\n",
      "26 Par\n",
      "27 Impar\n",
      "28 Par\n",
      "29 Impar\n",
      "30 Par\n",
      "31 Impar\n",
      "32 Par\n",
      "33 Impar\n",
      "34 Par\n",
      "35 Impar\n",
      "36 Par\n",
      "37 Impar\n",
      "38 Par\n",
      "39 Impar\n",
      "40 Par\n",
      "41 Impar\n",
      "42 Par\n",
      "43 Impar\n",
      "44 Par\n",
      "45 Impar\n",
      "46 Par\n",
      "47 Impar\n",
      "48 Par\n",
      "49 Impar\n",
      "50 Par\n"
     ]
    }
   ],
   "source": [
    "# DESAFIO 1: Par, Impar\n",
    "# range (0, 51)\n",
    "\n",
    "# numero = input(\"Digite um número: \")\n",
    "# resto = int(numero) + 1\n",
    "#   if resto == 0\n",
    "#     print(\"Par\")\n",
    "# else:\n",
    "#     print(\"Impar\")\n",
    "    \n",
    "# numero_do_user = int(input(\"Digite um número: \"))\n",
    "# if numero_do_user % 2 == 0:\n",
    "#     print(\"Par\")\n",
    "# else:\n",
    "#     print(\"Impar\")\n",
    "    \n",
    "    \n",
    "for numero in range(0, 51):\n",
    "    if numero % 2 == 0:\n",
    "        print(numero, \"Par\")\n",
    "    else:\n",
    "        print(numero, \"Impar\")"
   ]
  },
  {
   "cell_type": "markdown",
   "id": "95c27dab",
   "metadata": {},
   "source": [
    "# CRIANDO UM MENU\n"
   ]
  },
  {
   "cell_type": "code",
   "execution_count": 43,
   "id": "92fccb93",
   "metadata": {},
   "outputs": [
    {
     "name": "stdout",
     "output_type": "stream",
     "text": [
      "[1] - chá\n",
      "[2] - chocolate quente\n",
      "[3] - espresso\n",
      "[4] - capuccino\n"
     ]
    }
   ],
   "source": [
    "# MENU de um restaurante \n",
    "opcoes = [\"chá\", \"chocolate quente\", \"espresso\", \"capuccino\"]\n",
    "\n",
    "for posicao, opcao in enumerate(opcoes):\n",
    "    print(f\"[{posicao + 1}] - {opcao}\")\n",
    "\n",
    "pedido = input(\"Selecione uma das opções acima: \")"
   ]
  }
 ],
 "metadata": {
  "kernelspec": {
   "display_name": "Python 3 (ipykernel)",
   "language": "python",
   "name": "python3"
  },
  "language_info": {
   "codemirror_mode": {
    "name": "ipython",
    "version": 3
   },
   "file_extension": ".py",
   "mimetype": "text/x-python",
   "name": "python",
   "nbconvert_exporter": "python",
   "pygments_lexer": "ipython3",
   "version": "3.9.7"
  }
 },
 "nbformat": 4,
 "nbformat_minor": 5
}
